{
 "cells": [
  {
   "cell_type": "code",
   "execution_count": null,
   "id": "4854b168-6b54-43e1-b50b-76754880a2ed",
   "metadata": {},
   "outputs": [],
   "source": [
    "import os\n",
    "import pandas as pd\n",
    "import seaborn as sns\n",
    "import matplotlib.pyplot as plt"
   ]
  },
  {
   "cell_type": "code",
   "execution_count": null,
   "id": "a55d2580-4036-45ef-a686-2fe83bef9d36",
   "metadata": {},
   "outputs": [],
   "source": [
    "# Import data\n",
    "desktop_path = os.path.join(os.path.expanduser(\"~\"), \"Desktop\")\n",
    "directory = os.path.join(desktop_path, \"allAgetestrun\")"
   ]
  },
  {
   "cell_type": "code",
   "execution_count": null,
   "id": "476bfe36-3872-41fc-88e9-ad48fea115d9",
   "metadata": {},
   "outputs": [],
   "source": [
    "# Initialize empty lists to store data from each category\n",
    "all_hashtags = []\n",
    "all_authors = []\n",
    "all_sounds = []"
   ]
  },
  {
   "cell_type": "code",
   "execution_count": null,
   "id": "d290d58a-abc9-4ebb-9737-8d54a93f7186",
   "metadata": {},
   "outputs": [],
   "source": [
    "# Iterate over each file in the directory\n",
    "for filename in os.listdir(directory):\n",
    "    if filename.endswith(\".csv\"):\n",
    "        filepath = os.path.join(directory, filename)\n",
    "        \n",
    "        # Load data from the file into a DataFrame\n",
    "        df = pd.read_csv(filepath)\n",
    "        \n",
    "        # Extract hashtags, authors, and sounds\n",
    "        hashtags = df['hashtag'].str.split(',\\s*', expand=True).stack()\n",
    "        authors = df['author']\n",
    "        sounds = df['music']\n",
    "        \n",
    "        # Append data\n",
    "        all_hashtags.extend(hashtags)\n",
    "        all_authors.extend(authors)\n",
    "        all_sounds.extend(sounds)"
   ]
  },
  {
   "cell_type": "code",
   "execution_count": null,
   "id": "0745be80-26d9-4f11-b0cb-4176076ddfff",
   "metadata": {},
   "outputs": [],
   "source": [
    "# Create DataFrames for the three categories\n",
    "hashtags_df = pd.Series(all_hashtags).value_counts()\n",
    "authors_df = pd.Series(all_authors).value_counts()\n",
    "sounds_df = pd.Series(all_sounds).value_counts()\n",
    "\n",
    "# Keep only the top 15 most frequent items\n",
    "top_n = 15\n",
    "top_hashtags = hashtags_df.nlargest(top_n)\n",
    "top_authors = authors_df.nlargest(top_n)\n",
    "top_sounds = sounds_df.nlargest(top_n)"
   ]
  },
  {
   "cell_type": "code",
   "execution_count": null,
   "id": "cd603a47-7c64-4f00-a05c-80a195129b32",
   "metadata": {},
   "outputs": [],
   "source": [
    "# Plot each bar plot individually\n",
    "plt.figure(figsize=(15, 12))\n",
    "\n",
    "# Plot Top Hashtags\n",
    "plt.subplot(3, 1, 1)\n",
    "sns.barplot(x=top_hashtags.values, y=top_hashtags.index, palette=\"Blues_d\")\n",
    "for i, value in enumerate(top_hashtags.values):\n",
    "    plt.text(value, i, f'{value}', va='center')\n",
    "plt.title('Cumulative Top Hashtags_', fontweight='bold')\n",
    "plt.xlabel('Frequency')\n",
    "plt.ylabel('Hashtag')"
   ]
  },
  {
   "cell_type": "code",
   "execution_count": null,
   "id": "9fb31bc2-c06d-49fe-85de-4b880cb4a6cd",
   "metadata": {},
   "outputs": [],
   "source": [
    "# Plot Top Authors\n",
    "plt.subplot(3, 1, 2)\n",
    "sns.barplot(x=top_authors.values, y=top_authors.index, palette=\"Greens_d\")\n",
    "for i, value in enumerate(top_authors.values):\n",
    "    plt.text(value, i, f'{value}', va='center')\n",
    "plt.title('Cumulative Top Content Creators', fontweight='bold')\n",
    "plt.xlabel('Frequency')\n",
    "plt.ylabel('Content Creator')"
   ]
  },
  {
   "cell_type": "code",
   "execution_count": null,
   "id": "ae85707a-0eb1-4374-a741-d3206ac1bbce",
   "metadata": {},
   "outputs": [],
   "source": [
    "# Plot Top Sounds\n",
    "plt.subplot(3, 1, 3)\n",
    "sns.barplot(x=top_sounds.values, y=top_sounds.index, palette=\"Oranges_d\")\n",
    "for i, value in enumerate(top_sounds.values):\n",
    "    plt.text(value, i, f'{value}', va='center')\n",
    "plt.title('Cumulative Top Audio', fontweight='bold')\n",
    "plt.xlabel('Frequency')\n",
    "plt.ylabel('Audio')\n",
    "\n",
    "plt.tight_layout()\n",
    "plt.show()\n"
   ]
  }
 ],
 "metadata": {
  "kernelspec": {
   "display_name": "Python 3 (ipykernel)",
   "language": "python",
   "name": "python3"
  },
  "language_info": {
   "codemirror_mode": {
    "name": "ipython",
    "version": 3
   },
   "file_extension": ".py",
   "mimetype": "text/x-python",
   "name": "python",
   "nbconvert_exporter": "python",
   "pygments_lexer": "ipython3",
   "version": "3.11.5"
  }
 },
 "nbformat": 4,
 "nbformat_minor": 5
}
